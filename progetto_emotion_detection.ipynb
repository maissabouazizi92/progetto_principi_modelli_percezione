{
 "cells": [
  {
   "cell_type": "markdown",
   "id": "a99d65d7",
   "metadata": {},
   "source": [
    "# Libraries for system"
   ]
  },
  {
   "cell_type": "code",
   "execution_count": 2,
   "id": "a85fcded",
   "metadata": {},
   "outputs": [],
   "source": [
    "import os\n",
    "import time\n",
    "import shutil\n",
    "import pathlib\n",
    "import itertools\n",
    "from PIL import Image"
   ]
  },
  {
   "cell_type": "markdown",
   "id": "85a10eae",
   "metadata": {},
   "source": [
    "# Librairies for data handling"
   ]
  },
  {
   "cell_type": "code",
   "execution_count": null,
   "id": "693306ae",
   "metadata": {},
   "outputs": [],
   "source": [
    "import cv2                \n",
    "import numpy as np      \n",
    "import pandas as pd      \n",
    "import seaborn as sns     \n",
    "sns.set_style('darkgrid') \n",
    "import matplotlib.pyplot as plt  \n",
    "from sklearn.model_selection import train_test_split \n",
    "from sklearn.metrics import confusion_matrix, classification_report"
   ]
  },
  {
   "cell_type": "markdown",
   "id": "4bf53599",
   "metadata": {},
   "source": [
    " # Libraries for DataLearning"
   ]
  },
  {
   "cell_type": "code",
   "execution_count": 4,
   "id": "38dad37b",
   "metadata": {},
   "outputs": [],
   "source": [
    "\n",
    "import tensorflow as tf, gc\n",
    "tf.keras.backend.clear_session()\n",
    "gc.collect()\n",
    "from tensorflow import keras\n",
    "from tensorflow.keras import mixed_precision\n",
    "from tensorflow.keras.models import Sequential\n",
    "from tensorflow.keras.optimizers import Adam, Adamax\n",
    "from tensorflow.keras.metrics import categorical_crossentropy\n",
    "from tensorflow.keras.preprocessing.image import ImageDataGenerator\n",
    "from tensorflow.keras.layers import Conv2D, MaxPooling2D, Flatten, Dense, Activation, Dropout, BatchNormalization\n",
    "from tensorflow.keras import regularizers\n",
    "from tensorflow.keras import layers\n",
    "from tensorflow.keras.applications.efficientnet import EfficientNetB1, preprocess_input"
   ]
  },
  {
   "cell_type": "markdown",
   "id": "2dc5a927",
   "metadata": {},
   "source": [
    "# Ignore Warnings"
   ]
  },
  {
   "cell_type": "code",
   "execution_count": null,
   "id": "b6188a4b",
   "metadata": {},
   "outputs": [],
   "source": [
    "import warnings\n",
    "warnings.filterwarnings(\"ignore\")"
   ]
  },
  {
   "cell_type": "markdown",
   "id": "3e7f827a",
   "metadata": {},
   "source": [
    "# Checking GPU"
   ]
  },
  {
   "cell_type": "code",
   "execution_count": null,
   "id": "df5f986e",
   "metadata": {},
   "outputs": [
    {
     "name": "stdout",
     "output_type": "stream",
     "text": [
      "TF: 2.12.0\n",
      "Physical GPUs: []\n",
      "Logical GPUs: []\n",
      "WARNING:tensorflow:Mixed precision compatibility check (mixed_float16): WARNING\n",
      "The dtype policy mixed_float16 may run slowly because this machine does not have a GPU. Only Nvidia GPUs with compute capability of at least 7.0 run quickly with mixed_float16.\n",
      "If you will use compatible GPU(s) not attached to this host, e.g. by running a multi-worker model, you can ignore this warning. This message will only be logged once\n"
     ]
    }
   ],
   "source": [
    "print(\"TF:\", tf.__version__)\n",
    "print(\"Physical GPUs:\", tf.config.list_physical_devices(\"GPU\"))\n",
    "print(\"Logical GPUs:\", tf.config.list_logical_devices(\"GPU\"))\n",
    "\n",
    "for g in tf.config.list_physical_devices('GPU'):\n",
    "    try: tf.config.experimental.set_memory_growth(g, True)\n",
    "    except: pass\n",
    "\n",
    "mixed_precision.set_global_policy(\"mixed_float16\") \n",
    "tf.debugging.set_log_device_placement(True)"
   ]
  },
  {
   "cell_type": "markdown",
   "id": "a27f6b0e",
   "metadata": {},
   "source": [
    "# Generate data paths with labels"
   ]
  },
  {
   "cell_type": "markdown",
   "id": "34f58e89",
   "metadata": {},
   "source": [
    "##### Training data"
   ]
  },
  {
   "cell_type": "code",
   "execution_count": null,
   "id": "3f58103a",
   "metadata": {},
   "outputs": [],
   "source": [
    "train_dir = '/workspace/prg_MLP_Maissa/train'\n",
    "filepaths = []\n",
    "labels = []\n",
    "folds = os.listdir(train_dir)\n",
    "for fold in folds:\n",
    "    foldpath = os.path.join(train_dir, fold)\n",
    "    filelist = os.listdir(foldpath)\n",
    "    for file in filelist:\n",
    "        fpath = os.path.join(foldpath, file)\n",
    "        filepaths.append(fpath)\n",
    "        labels.append(fold)\n",
    "\n",
    "Fseries = pd.Series(filepaths, name= 'filepaths')\n",
    "Lseries = pd.Series(labels, name='labels')\n",
    "train_df = pd.concat([Fseries, Lseries], axis= 1)"
   ]
  },
  {
   "cell_type": "markdown",
   "id": "5e9c0c5e",
   "metadata": {},
   "source": [
    "##### Testing data"
   ]
  },
  {
   "cell_type": "code",
   "execution_count": null,
   "id": "fc837913",
   "metadata": {},
   "outputs": [],
   "source": [
    "test_dir = '/workspace/prg_MLP_Maissa/test'\n",
    "filepaths = []\n",
    "labels = []\n",
    "\n",
    "folds = os.listdir(test_dir)\n",
    "for fold in folds:\n",
    "    foldpath = os.path.join(test_dir, fold)\n",
    "    filelist = os.listdir(foldpath)\n",
    "    for file in filelist:\n",
    "        fpath = os.path.join(foldpath, file)\n",
    "        filepaths.append(fpath)\n",
    "        labels.append(fold)\n",
    "\n",
    "Fseries = pd.Series(filepaths, name= 'filepaths')\n",
    "Lseries = pd.Series(labels, name='labels')\n",
    "test_df = pd.concat([Fseries, Lseries], axis= 1)"
   ]
  },
  {
   "cell_type": "markdown",
   "id": "b852b31e",
   "metadata": {},
   "source": [
    "# Split reserved Test data into Test and Validation data "
   ]
  },
  {
   "cell_type": "code",
   "execution_count": null,
   "id": "10252ffd",
   "metadata": {},
   "outputs": [],
   "source": [
    "valid_df, test_df = train_test_split(test_df,  train_size= 0.6, shuffle= True, random_state= 123)"
   ]
  },
  {
   "cell_type": "markdown",
   "id": "9ce77bb9",
   "metadata": {},
   "source": [
    "# Generating images for train and test"
   ]
  },
  {
   "cell_type": "code",
   "execution_count": null,
   "id": "1960ac7b",
   "metadata": {},
   "outputs": [],
   "source": [
    "batch_size = 16\n",
    "img_size = (240, 240)\n",
    "channels = 3\n",
    "img_shape = (img_size[0], img_size[1], channels)\n",
    "\n",
    "tr_gen = ImageDataGenerator(preprocessing_function=preprocess_input)\n",
    "ts_gen = ImageDataGenerator(preprocessing_function=preprocess_input)\n",
    "\n",
    "train_gen = tr_gen.flow_from_dataframe( train_df, x_col= 'filepaths', y_col= 'labels', target_size= img_size, class_mode= 'categorical', color_mode= 'rgb', shuffle= True, batch_size= batch_size)\n",
    "valid_gen = ts_gen.flow_from_dataframe( valid_df, x_col= 'filepaths', y_col= 'labels', target_size= img_size, class_mode= 'categorical', color_mode= 'rgb', shuffle= False, batch_size= batch_size)\n",
    "test_gen = ts_gen.flow_from_dataframe( test_df, x_col= 'filepaths', y_col= 'labels', target_size= img_size, class_mode= 'categorical', color_mode= 'rgb', shuffle= False, batch_size= batch_size)\n",
    "\n",
    "num_classes = len(train_gen.class_indices) "
   ]
  },
  {
   "cell_type": "markdown",
   "id": "ed2bd829",
   "metadata": {},
   "source": [
    "# Checking 1st batch of images "
   ]
  },
  {
   "cell_type": "code",
   "execution_count": null,
   "id": "76460af9",
   "metadata": {},
   "outputs": [],
   "source": [
    "g_dict = train_gen.class_indices\n",
    "classes = list(g_dict.keys())\n",
    "images, labels = next(train_gen)\n",
    "\n",
    "plt.figure(figsize= (20, 20))\n",
    "\n",
    "for i in range(16):\n",
    "    plt.subplot(4, 4, i + 1)\n",
    "    image = images[i] / 255\n",
    "    plt.imshow(image)\n",
    "    index = np.argmax(labels[i])\n",
    "    class_name = classes[index]\n",
    "    plt.title(class_name, color= 'blue', fontsize= 12)\n",
    "    plt.axis('off')\n",
    "plt.show()"
   ]
  },
  {
   "cell_type": "markdown",
   "id": "d83d8273",
   "metadata": {},
   "source": [
    "# Create Model Structure"
   ]
  },
  {
   "cell_type": "code",
   "execution_count": null,
   "id": "5e6aaf34",
   "metadata": {},
   "outputs": [],
   "source": [
    "\n",
    "img_size = (240, 240)\n",
    "channels = 3\n",
    "img_shape = (img_size[0], img_size[1], channels)\n",
    "class_count = len(list(train_gen.class_indices.keys())) \n",
    "\n",
    "base = EfficientNetB1(include_top=False, weights='imagenet', input_shape=(240,240,3), pooling='max')\n",
    "#base.trainable = False\n",
    "\n",
    "x = layers.LayerNormalization()(base.output)\n",
    "x = layers.Dense(256, activation='relu', kernel_regularizer=regularizers.l2(0.016), \n",
    "                 activity_regularizer=regularizers.l1(0.006), bias_regularizer=regularizers.l1(0.006))(x)\n",
    "x = layers.Dropout(0.45, seed=123)(x)\n",
    "out = layers.Dense(num_classes, activation='softmax', dtype='float32')(x)\n",
    "\n",
    "model = keras.Model(base.input, out)\n",
    "model.compile(Adamax(1e-4), loss='categorical_crossentropy', metrics=['accuracy'])\n",
    "\n",
    "cb = [\n",
    "    keras.callbacks.TerminateOnNaN(),\n",
    "    keras.callbacks.ReduceLROnPlateau(monitor='val_loss', factor=0.5, patience=2, min_lr=1e-6),\n",
    "    keras.callbacks.EarlyStopping(monitor='val_loss', patience=3, restore_best_weights=True)\n",
    "]"
   ]
  },
  {
   "cell_type": "markdown",
   "id": "35e79775",
   "metadata": {},
   "source": [
    "# Training model"
   ]
  },
  {
   "cell_type": "code",
   "execution_count": null,
   "id": "f974cb81",
   "metadata": {},
   "outputs": [],
   "source": [
    "history = model.fit(train_gen, validation_data=valid_gen, epochs=40, callbacks=cb, verbose=1)"
   ]
  },
  {
   "cell_type": "markdown",
   "id": "aecc05c7",
   "metadata": {},
   "source": [
    "# Analyse results"
   ]
  },
  {
   "cell_type": "code",
   "execution_count": null,
   "id": "b2bc0c9a",
   "metadata": {},
   "outputs": [],
   "source": [
    "tr_acc = history.history['accuracy']\n",
    "tr_loss = history.history['loss']\n",
    "val_acc = history.history['val_accuracy']\n",
    "val_loss = history.history['val_loss']\n",
    "index_loss = np.argmin(val_loss)\n",
    "val_lowest = val_loss[index_loss]\n",
    "index_acc = np.argmax(val_acc)\n",
    "acc_highest = val_acc[index_acc]\n",
    "Epochs = [i+1 for i in range(len(tr_acc))]\n",
    "loss_label = f'best epoch= {str(index_loss + 1)}'\n",
    "acc_label = f'best epoch= {str(index_acc + 1)}'\n",
    "# Plot training history\n",
    "plt.figure(figsize= (20, 8))\n",
    "plt.style.use('fivethirtyeight')\n",
    "plt.subplot(1, 2, 1)\n",
    "plt.plot(Epochs, tr_loss, 'r', label= 'Training loss')\n",
    "plt.plot(Epochs, val_loss, 'g', label= 'Validation loss')\n",
    "plt.scatter(index_loss + 1, val_lowest, s= 150, c= 'blue', label= loss_label)\n",
    "plt.title('Training and Validation Loss')\n",
    "plt.xlabel('Epochs')\n",
    "plt.ylabel('Loss')\n",
    "plt.legend()\n",
    "plt.subplot(1, 2, 2)\n",
    "plt.plot(Epochs, tr_acc, 'r', label= 'Training Accuracy')\n",
    "plt.plot(Epochs, val_acc, 'g', label= 'Validation Accuracy')\n",
    "plt.scatter(index_acc + 1 , acc_highest, s= 150, c= 'blue', label= acc_label)\n",
    "plt.title('Training and Validation Accuracy')\n",
    "plt.xlabel('Epochs')\n",
    "plt.ylabel('Accuracy')\n",
    "plt.legend()\n",
    "plt.tight_layout\n",
    "plt.show()"
   ]
  },
  {
   "cell_type": "code",
   "execution_count": null,
   "id": "ffa83a62",
   "metadata": {},
   "outputs": [],
   "source": [
    "ts_length = len(test_df)\n",
    "test_batch_size = max(sorted([ts_length // n for n in range(1, ts_length + 1) if ts_length%n == 0 and ts_length/n <= 80]))\n",
    "test_steps = ts_length // test_batch_size\n",
    "\n",
    "train_score = model.evaluate(train_gen, steps= test_steps, verbose= 1)\n",
    "valid_score = model.evaluate(valid_gen, steps= test_steps, verbose= 1)\n",
    "test_score = model.evaluate(test_gen, steps= test_steps, verbose= 1)\n",
    "\n",
    "print(\"Train Loss: \", train_score[0])\n",
    "print(\"Train Accuracy: \", train_score[1])\n",
    "print('-' * 20)\n",
    "print(\"Validation Loss: \", valid_score[0])\n",
    "print(\"Validation Accuracy: \", valid_score[1])\n",
    "print('-' * 20)\n",
    "print(\"Test Loss: \", test_score[0])\n",
    "print(\"Test Accuracy: \", test_score[1])"
   ]
  },
  {
   "cell_type": "code",
   "execution_count": null,
   "id": "95e2b513",
   "metadata": {},
   "outputs": [],
   "source": [
    "preds = model.predict_generator(test_gen)\n",
    "y_pred = np.argmax(preds, axis=1)"
   ]
  },
  {
   "cell_type": "markdown",
   "id": "59268545",
   "metadata": {},
   "source": [
    "# Confusion matrix"
   ]
  },
  {
   "cell_type": "code",
   "execution_count": null,
   "id": "5755376b",
   "metadata": {},
   "outputs": [],
   "source": [
    "g_dict = test_gen.class_indices\n",
    "classes = list(g_dict.keys())\n",
    "\n",
    "cm = confusion_matrix(test_gen.classes, y_pred)\n",
    "\n",
    "plt.figure(figsize= (10, 10))\n",
    "plt.imshow(cm, interpolation= 'nearest', cmap= plt.cm.Blues)\n",
    "plt.title('Confusion Matrix')\n",
    "plt.colorbar()\n",
    "tick_marks = np.arange(len(classes))\n",
    "plt.xticks(tick_marks, classes, rotation= 45)\n",
    "plt.yticks(tick_marks, classes)\n",
    "thresh = cm.max() / 2.\n",
    "for i, j in itertools.product(range(cm.shape[0]), range(cm.shape[1])):\n",
    "    plt.text(j, i, cm[i, j], horizontalalignment= 'center', color= 'white' if cm[i, j] > thresh else 'black')\n",
    "\n",
    "plt.tight_layout()\n",
    "plt.ylabel('True Label')\n",
    "plt.xlabel('Predicted Label')\n",
    "\n",
    "plt.show()"
   ]
  },
  {
   "cell_type": "markdown",
   "id": "1f66f67e",
   "metadata": {},
   "source": [
    "# Classification report"
   ]
  },
  {
   "cell_type": "code",
   "execution_count": null,
   "id": "872b1d08",
   "metadata": {},
   "outputs": [],
   "source": [
    "print(classification_report(test_gen.classes, y_pred, target_names= classes))"
   ]
  },
  {
   "cell_type": "markdown",
   "id": "e7b96dad",
   "metadata": {},
   "source": [
    "# Save trained model"
   ]
  },
  {
   "cell_type": "code",
   "execution_count": null,
   "id": "91efee26",
   "metadata": {},
   "outputs": [],
   "source": [
    "model.save(\"/workspace/prg_MLP_Maissa/model.h5\")"
   ]
  },
  {
   "cell_type": "markdown",
   "id": "78127684",
   "metadata": {},
   "source": [
    "# Load trained model"
   ]
  },
  {
   "cell_type": "code",
   "execution_count": null,
   "id": "d5d1b41d",
   "metadata": {},
   "outputs": [],
   "source": [
    "loaded_model = tf.keras.models.load_model('/workspace/prg_MLP_Maissa/model.h5', compile=False)\n",
    "loaded_model.compile(Adamax(learning_rate= 0.001), loss= 'categorical_crossentropy', metrics= ['accuracy'])"
   ]
  },
  {
   "cell_type": "markdown",
   "id": "6a0d0cec",
   "metadata": {},
   "source": [
    "# Predict an image (happy class)"
   ]
  },
  {
   "cell_type": "code",
   "execution_count": null,
   "id": "edd89249",
   "metadata": {},
   "outputs": [],
   "source": [
    "image_path = '/workspace/prg_MLP_Maissa/test/happy/im1002.png'\n",
    "image = Image.open(image_path)\n",
    "\n",
    "# Preprocess the image\n",
    "img = image.resize((224, 224))\n",
    "img_array = tf.keras.preprocessing.image.img_to_array(img)\n",
    "img_array = tf.expand_dims(img_array, 0)\n",
    "\n",
    "# Make predictions\n",
    "predictions = loaded_model.predict(img_array)\n",
    "class_labels = classes\n",
    "score = tf.nn.softmax(predictions[0])\n",
    "print(f\"{class_labels[tf.argmax(score)]}\")"
   ]
  },
  {
   "cell_type": "markdown",
   "id": "6df8fa78",
   "metadata": {},
   "source": [
    "# Predict an image (surprised class)"
   ]
  },
  {
   "cell_type": "code",
   "execution_count": null,
   "id": "6706700a",
   "metadata": {},
   "outputs": [],
   "source": [
    "image_path2 = '/workspace/prg_MLP_Maissa/test/surprised/im1.png'\n",
    "image = Image.open(image_path2)\n",
    "\n",
    "# Preprocess the image\n",
    "img = image.resize((224, 224))\n",
    "img_array = tf.keras.preprocessing.image.img_to_array(img)\n",
    "img_array = tf.expand_dims(img_array, 0)\n",
    "\n",
    "# Make predictions\n",
    "predictions = loaded_model.predict(img_array)\n",
    "class_labels = classes\n",
    "score = tf.nn.softmax(predictions[0])\n",
    "print(f\"{class_labels[tf.argmax(score)]}\")"
   ]
  }
 ],
 "metadata": {
  "kernelspec": {
   "display_name": "Python 3",
   "language": "python",
   "name": "python3"
  },
  "language_info": {
   "codemirror_mode": {
    "name": "ipython",
    "version": 3
   },
   "file_extension": ".py",
   "mimetype": "text/x-python",
   "name": "python",
   "nbconvert_exporter": "python",
   "pygments_lexer": "ipython3",
   "version": "3.11.0"
  }
 },
 "nbformat": 4,
 "nbformat_minor": 5
}
